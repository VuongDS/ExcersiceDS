{
 "cells": [
  {
   "cell_type": "markdown",
   "metadata": {
    "button": false,
    "id": "SzPE54CYM1kJ",
    "new_sheet": false,
    "run_control": {
     "read_only": false
    }
   },
   "source": [
    "<h1 align=center><font size = 10> Classification with Python</font></h1>"
   ]
  },
  {
   "cell_type": "markdown",
   "metadata": {
    "button": false,
    "id": "XPfbiVLfM1kK",
    "new_sheet": false,
    "run_control": {
     "read_only": false
    }
   },
   "source": [
    "In this notebook, we try to practice all the classification algorithms that we have learned in this course.\n",
    "\n",
    "We load a dataset using the Pandas library, and apply the following algorithms, and find the best one for this specific dataset by accuracy evaluation methods.\n",
    "\n",
    "Lets first load required libraries:"
   ]
  },
  {
   "cell_type": "code",
   "execution_count": 1,
   "metadata": {
    "button": false,
    "id": "vcBmcLcqM1kL",
    "new_sheet": false,
    "run_control": {
     "read_only": false
    }
   },
   "outputs": [],
   "source": [
    "import matplotlib.pyplot as plt\n",
    "from matplotlib.ticker import NullFormatter\n",
    "import pandas as pd\n",
    "import numpy as np\n",
    "import matplotlib.ticker as ticker\n",
    "from sklearn import preprocessing\n",
    "%matplotlib inline\n",
    "%matplotlib inline"
   ]
  },
  {
   "cell_type": "markdown",
   "metadata": {
    "id": "PKehb7okM1kN"
   },
   "source": [
    "# Mandatory part (85%  of the total score)"
   ]
  },
  {
   "cell_type": "markdown",
   "metadata": {
    "id": "1OXuDMKku37m"
   },
   "source": []
  },
  {
   "cell_type": "markdown",
   "metadata": {
    "button": false,
    "id": "ZAL75IefM1kO",
    "new_sheet": false,
    "run_control": {
     "read_only": false
    }
   },
   "source": [
    "## About dataset"
   ]
  },
  {
   "cell_type": "markdown",
   "metadata": {
    "button": false,
    "id": "yrPdRO--M1kO",
    "new_sheet": false,
    "run_control": {
     "read_only": false
    }
   },
   "source": [
    "The Pima is a group of Native Americans living in Arizona. A genetic predisposition allowed this group to survive normally to a diet poor of carbohydrates for years. In recent years, a sudden shift from traditional agricultural crops to processed foods, together with a decline in physical activity, has made them develop the highest prevalence of type 2 diabetes and for this reason, they have been subject of many studies.\n",
    "\n",
    "The dataset includes data from 768 women with 8 characteristics, in particular:\n",
    "\n",
    "- Number of times pregnant\n",
    "- Plasma glucose concentration a 2 hours in an oral glucose tolerance test\n",
    "- Diastolic blood pressure (mm Hg)\n",
    "- Triceps skinfold thickness (mm)\n",
    "- 2-Hour serum insulin (mu U/ml)\n",
    "- Body mass index (weight in kg/(height in m)^2)\n",
    "- Diabetes pedigree function\n",
    "- Age (years)\n",
    "- The last column of the dataset indicates if the person has been diagnosed with diabetes (1) or not (0)"
   ]
  },
  {
   "cell_type": "markdown",
   "metadata": {
    "id": "dzJFrqwyM1kP"
   },
   "source": [
    "## The problem:"
   ]
  },
  {
   "cell_type": "markdown",
   "metadata": {
    "id": "WFl47FBcM1kQ"
   },
   "source": [
    "The type of dataset and problem is a classic supervised binary classification. Given a number of elements with certain characteristics (features), we want to build a machine learning model to identify people affected by type 2 diabetes.\n",
    "\n",
    "To solve the problem we will have to analyze the data, do any required transformation and nomarlization, apply a machine learning algorithm, train a model, check the performance of the trained model and iterate with other algorithms until we find the most performant for our type of dataset."
   ]
  },
  {
   "cell_type": "markdown",
   "metadata": {
    "button": false,
    "id": "Diy5tSZ7M1kQ",
    "new_sheet": false,
    "run_control": {
     "read_only": false
    }
   },
   "source": [
    "## Load Data From CSV File  "
   ]
  },
  {
   "cell_type": "markdown",
   "metadata": {
    "id": "qdIctwmZM1kR"
   },
   "source": [
    "### 1. Load the dataset from the 'pima-indians-diabetes.csv' file.\n",
    "\n",
    "Because the CSV doesn't contain any header, we add column names using the description from the original dataset website:\n",
    "\n",
    "dataset.columns = [\"NumTimesPrg\", \"PlGlcConc\", \"BloodP\", \"SkinThick\", \"TwoHourSerIns\", \"BMI\", \"DiPedFunc\", \"Age\", \"HasDiabetes\"]"
   ]
  },
  {
   "cell_type": "code",
   "execution_count": 2,
   "metadata": {
    "id": "nSkHRlonNeL8"
   },
   "outputs": [],
   "source": [
    "!wget  --quiet  --no-check-certificate https://raw.githubusercontent.com/VuongDS/303/main/pima-indians-diabetes.csv"
   ]
  },
  {
   "cell_type": "code",
   "execution_count": 3,
   "metadata": {
    "colab": {
     "base_uri": "https://localhost:8080/",
     "height": 206
    },
    "id": "ogsc2ttypYmi",
    "outputId": "62830b07-f903-410b-c210-d728d69c2e1f"
   },
   "outputs": [
    {
     "data": {
      "text/html": [
       "<div>\n",
       "<style scoped>\n",
       "    .dataframe tbody tr th:only-of-type {\n",
       "        vertical-align: middle;\n",
       "    }\n",
       "\n",
       "    .dataframe tbody tr th {\n",
       "        vertical-align: top;\n",
       "    }\n",
       "\n",
       "    .dataframe thead th {\n",
       "        text-align: right;\n",
       "    }\n",
       "</style>\n",
       "<table border=\"1\" class=\"dataframe\">\n",
       "  <thead>\n",
       "    <tr style=\"text-align: right;\">\n",
       "      <th></th>\n",
       "      <th>6</th>\n",
       "      <th>148</th>\n",
       "      <th>72</th>\n",
       "      <th>35</th>\n",
       "      <th>0</th>\n",
       "      <th>33.6</th>\n",
       "      <th>0.627</th>\n",
       "      <th>50</th>\n",
       "      <th>1</th>\n",
       "    </tr>\n",
       "  </thead>\n",
       "  <tbody>\n",
       "    <tr>\n",
       "      <th>0</th>\n",
       "      <td>1</td>\n",
       "      <td>85</td>\n",
       "      <td>66</td>\n",
       "      <td>29</td>\n",
       "      <td>0</td>\n",
       "      <td>26.6</td>\n",
       "      <td>0.351</td>\n",
       "      <td>31</td>\n",
       "      <td>0</td>\n",
       "    </tr>\n",
       "    <tr>\n",
       "      <th>1</th>\n",
       "      <td>8</td>\n",
       "      <td>183</td>\n",
       "      <td>64</td>\n",
       "      <td>0</td>\n",
       "      <td>0</td>\n",
       "      <td>23.3</td>\n",
       "      <td>0.672</td>\n",
       "      <td>32</td>\n",
       "      <td>1</td>\n",
       "    </tr>\n",
       "    <tr>\n",
       "      <th>2</th>\n",
       "      <td>1</td>\n",
       "      <td>89</td>\n",
       "      <td>66</td>\n",
       "      <td>23</td>\n",
       "      <td>94</td>\n",
       "      <td>28.1</td>\n",
       "      <td>0.167</td>\n",
       "      <td>21</td>\n",
       "      <td>0</td>\n",
       "    </tr>\n",
       "    <tr>\n",
       "      <th>3</th>\n",
       "      <td>0</td>\n",
       "      <td>137</td>\n",
       "      <td>40</td>\n",
       "      <td>35</td>\n",
       "      <td>168</td>\n",
       "      <td>43.1</td>\n",
       "      <td>2.288</td>\n",
       "      <td>33</td>\n",
       "      <td>1</td>\n",
       "    </tr>\n",
       "    <tr>\n",
       "      <th>4</th>\n",
       "      <td>5</td>\n",
       "      <td>116</td>\n",
       "      <td>74</td>\n",
       "      <td>0</td>\n",
       "      <td>0</td>\n",
       "      <td>25.6</td>\n",
       "      <td>0.201</td>\n",
       "      <td>30</td>\n",
       "      <td>0</td>\n",
       "    </tr>\n",
       "  </tbody>\n",
       "</table>\n",
       "</div>"
      ],
      "text/plain": [
       "   6  148  72  35    0  33.6  0.627  50  1\n",
       "0  1   85  66  29    0  26.6  0.351  31  0\n",
       "1  8  183  64   0    0  23.3  0.672  32  1\n",
       "2  1   89  66  23   94  28.1  0.167  21  0\n",
       "3  0  137  40  35  168  43.1  2.288  33  1\n",
       "4  5  116  74   0    0  25.6  0.201  30  0"
      ]
     },
     "execution_count": 3,
     "metadata": {},
     "output_type": "execute_result"
    }
   ],
   "source": [
    "df_first = pd.read_csv('pima-indians-diabetes.csv')\n",
    "df_first.head()"
   ]
  },
  {
   "cell_type": "code",
   "execution_count": 4,
   "metadata": {
    "button": false,
    "colab": {
     "base_uri": "https://localhost:8080/",
     "height": 206
    },
    "id": "K-TmhZ8vM1kS",
    "new_sheet": false,
    "outputId": "3744f760-95ab-41d1-d043-8e55b5cdc30e",
    "run_control": {
     "read_only": false
    }
   },
   "outputs": [
    {
     "data": {
      "text/html": [
       "<div>\n",
       "<style scoped>\n",
       "    .dataframe tbody tr th:only-of-type {\n",
       "        vertical-align: middle;\n",
       "    }\n",
       "\n",
       "    .dataframe tbody tr th {\n",
       "        vertical-align: top;\n",
       "    }\n",
       "\n",
       "    .dataframe thead th {\n",
       "        text-align: right;\n",
       "    }\n",
       "</style>\n",
       "<table border=\"1\" class=\"dataframe\">\n",
       "  <thead>\n",
       "    <tr style=\"text-align: right;\">\n",
       "      <th></th>\n",
       "      <th>NumTimesPrg</th>\n",
       "      <th>PlGlcConc</th>\n",
       "      <th>BloodP</th>\n",
       "      <th>SkinThick</th>\n",
       "      <th>TwoHourSerIns</th>\n",
       "      <th>BMI</th>\n",
       "      <th>DiPedFunc</th>\n",
       "      <th>Age</th>\n",
       "      <th>HasDiabetes</th>\n",
       "    </tr>\n",
       "  </thead>\n",
       "  <tbody>\n",
       "    <tr>\n",
       "      <th>0</th>\n",
       "      <td>6</td>\n",
       "      <td>148</td>\n",
       "      <td>72</td>\n",
       "      <td>35</td>\n",
       "      <td>0</td>\n",
       "      <td>33.6</td>\n",
       "      <td>0.627</td>\n",
       "      <td>50</td>\n",
       "      <td>1</td>\n",
       "    </tr>\n",
       "    <tr>\n",
       "      <th>1</th>\n",
       "      <td>1</td>\n",
       "      <td>85</td>\n",
       "      <td>66</td>\n",
       "      <td>29</td>\n",
       "      <td>0</td>\n",
       "      <td>26.6</td>\n",
       "      <td>0.351</td>\n",
       "      <td>31</td>\n",
       "      <td>0</td>\n",
       "    </tr>\n",
       "    <tr>\n",
       "      <th>2</th>\n",
       "      <td>8</td>\n",
       "      <td>183</td>\n",
       "      <td>64</td>\n",
       "      <td>0</td>\n",
       "      <td>0</td>\n",
       "      <td>23.3</td>\n",
       "      <td>0.672</td>\n",
       "      <td>32</td>\n",
       "      <td>1</td>\n",
       "    </tr>\n",
       "    <tr>\n",
       "      <th>3</th>\n",
       "      <td>1</td>\n",
       "      <td>89</td>\n",
       "      <td>66</td>\n",
       "      <td>23</td>\n",
       "      <td>94</td>\n",
       "      <td>28.1</td>\n",
       "      <td>0.167</td>\n",
       "      <td>21</td>\n",
       "      <td>0</td>\n",
       "    </tr>\n",
       "    <tr>\n",
       "      <th>4</th>\n",
       "      <td>0</td>\n",
       "      <td>137</td>\n",
       "      <td>40</td>\n",
       "      <td>35</td>\n",
       "      <td>168</td>\n",
       "      <td>43.1</td>\n",
       "      <td>2.288</td>\n",
       "      <td>33</td>\n",
       "      <td>1</td>\n",
       "    </tr>\n",
       "  </tbody>\n",
       "</table>\n",
       "</div>"
      ],
      "text/plain": [
       "   NumTimesPrg  PlGlcConc  BloodP  SkinThick  TwoHourSerIns   BMI  DiPedFunc  \\\n",
       "0            6        148      72         35              0  33.6      0.627   \n",
       "1            1         85      66         29              0  26.6      0.351   \n",
       "2            8        183      64          0              0  23.3      0.672   \n",
       "3            1         89      66         23             94  28.1      0.167   \n",
       "4            0        137      40         35            168  43.1      2.288   \n",
       "\n",
       "   Age  HasDiabetes  \n",
       "0   50            1  \n",
       "1   31            0  \n",
       "2   32            1  \n",
       "3   21            0  \n",
       "4   33            1  "
      ]
     },
     "execution_count": 4,
     "metadata": {},
     "output_type": "execute_result"
    }
   ],
   "source": [
    "#TO DO:\n",
    "df = pd.read_csv(\"pima-indians-diabetes.csv\", names=[\"NumTimesPrg\", \"PlGlcConc\", \"BloodP\", \"SkinThick\", \"TwoHourSerIns\", \"BMI\", \"DiPedFunc\", \"Age\", \"HasDiabetes\"])\n",
    "df.head()"
   ]
  },
  {
   "cell_type": "markdown",
   "metadata": {
    "button": false,
    "id": "AmBhwo0DM1kU",
    "new_sheet": false,
    "run_control": {
     "read_only": false
    }
   },
   "source": [
    "## Inspect the Dataset"
   ]
  },
  {
   "cell_type": "markdown",
   "metadata": {
    "id": "_HlgbaIQM1kU"
   },
   "source": [
    "### 2. Print out the shape of the dataset: we have 768 rows and 9 columns. Then, print out the head of the dataset to better understand the data format.\n",
    "\n",
    "The first 8 columns are features while the last one is the supervised label (1 = has diabetes, 0 = no diabetes)"
   ]
  },
  {
   "cell_type": "code",
   "execution_count": 5,
   "metadata": {
    "button": false,
    "colab": {
     "base_uri": "https://localhost:8080/"
    },
    "id": "bpyxtYzcM1kV",
    "new_sheet": false,
    "outputId": "5d5952ab-5563-4ccf-c74b-128635681f47",
    "run_control": {
     "read_only": false
    }
   },
   "outputs": [
    {
     "data": {
      "text/plain": [
       "(768, 9)"
      ]
     },
     "execution_count": 5,
     "metadata": {},
     "output_type": "execute_result"
    }
   ],
   "source": [
    "#TO DO:\n",
    "# Number of times pregnant\n",
    "# Plasma glucose concentration a 2 hours in an oral glucose tolerance test\n",
    "# Diastolic blood pressure (mm Hg)\n",
    "# Triceps skinfold thickness (mm)\n",
    "# 2-Hour serum insulin (mu U/ml)\n",
    "# Body mass index (weight in kg/(height in m)^2)\n",
    "# Diabetes pedigree function\n",
    "# Age (years)\n",
    "df.shape"
   ]
  },
  {
   "cell_type": "markdown",
   "metadata": {
    "button": false,
    "id": "a02T2r1XM1kY",
    "new_sheet": false,
    "run_control": {
     "read_only": false
    }
   },
   "source": [
    "# Data visualization and pre-processing\n",
    "\n"
   ]
  },
  {
   "cell_type": "markdown",
   "metadata": {
    "button": false,
    "id": "WyisS4NVM1kZ",
    "new_sheet": false,
    "run_control": {
     "read_only": false
    }
   },
   "source": [
    "## Data correlation matrix\n",
    "### 3. Let's calculate the correlation matrix for our dataset.\n",
    "\n",
    "The correlation matrix is an important tool to understand the correlation between the different characteristics. The values range from -1 to 1 and the closer a value is to 1 the better correlation there is between two characteristics. "
   ]
  },
  {
   "cell_type": "code",
   "execution_count": 6,
   "metadata": {
    "button": false,
    "colab": {
     "base_uri": "https://localhost:8080/",
     "height": 331
    },
    "id": "vymkxfN8M1kZ",
    "new_sheet": false,
    "outputId": "a7c5dc94-84f1-484b-a2a9-95677facd315",
    "run_control": {
     "read_only": false
    }
   },
   "outputs": [
    {
     "data": {
      "text/html": [
       "<div>\n",
       "<style scoped>\n",
       "    .dataframe tbody tr th:only-of-type {\n",
       "        vertical-align: middle;\n",
       "    }\n",
       "\n",
       "    .dataframe tbody tr th {\n",
       "        vertical-align: top;\n",
       "    }\n",
       "\n",
       "    .dataframe thead th {\n",
       "        text-align: right;\n",
       "    }\n",
       "</style>\n",
       "<table border=\"1\" class=\"dataframe\">\n",
       "  <thead>\n",
       "    <tr style=\"text-align: right;\">\n",
       "      <th></th>\n",
       "      <th>NumTimesPrg</th>\n",
       "      <th>PlGlcConc</th>\n",
       "      <th>BloodP</th>\n",
       "      <th>SkinThick</th>\n",
       "      <th>TwoHourSerIns</th>\n",
       "      <th>BMI</th>\n",
       "      <th>DiPedFunc</th>\n",
       "      <th>Age</th>\n",
       "      <th>HasDiabetes</th>\n",
       "    </tr>\n",
       "  </thead>\n",
       "  <tbody>\n",
       "    <tr>\n",
       "      <th>NumTimesPrg</th>\n",
       "      <td>1.000000</td>\n",
       "      <td>0.129459</td>\n",
       "      <td>0.141282</td>\n",
       "      <td>-0.081672</td>\n",
       "      <td>-0.073535</td>\n",
       "      <td>0.017683</td>\n",
       "      <td>-0.033523</td>\n",
       "      <td>0.544341</td>\n",
       "      <td>0.221898</td>\n",
       "    </tr>\n",
       "    <tr>\n",
       "      <th>PlGlcConc</th>\n",
       "      <td>0.129459</td>\n",
       "      <td>1.000000</td>\n",
       "      <td>0.152590</td>\n",
       "      <td>0.057328</td>\n",
       "      <td>0.331357</td>\n",
       "      <td>0.221071</td>\n",
       "      <td>0.137337</td>\n",
       "      <td>0.263514</td>\n",
       "      <td>0.466581</td>\n",
       "    </tr>\n",
       "    <tr>\n",
       "      <th>BloodP</th>\n",
       "      <td>0.141282</td>\n",
       "      <td>0.152590</td>\n",
       "      <td>1.000000</td>\n",
       "      <td>0.207371</td>\n",
       "      <td>0.088933</td>\n",
       "      <td>0.281805</td>\n",
       "      <td>0.041265</td>\n",
       "      <td>0.239528</td>\n",
       "      <td>0.065068</td>\n",
       "    </tr>\n",
       "    <tr>\n",
       "      <th>SkinThick</th>\n",
       "      <td>-0.081672</td>\n",
       "      <td>0.057328</td>\n",
       "      <td>0.207371</td>\n",
       "      <td>1.000000</td>\n",
       "      <td>0.436783</td>\n",
       "      <td>0.392573</td>\n",
       "      <td>0.183928</td>\n",
       "      <td>-0.113970</td>\n",
       "      <td>0.074752</td>\n",
       "    </tr>\n",
       "    <tr>\n",
       "      <th>TwoHourSerIns</th>\n",
       "      <td>-0.073535</td>\n",
       "      <td>0.331357</td>\n",
       "      <td>0.088933</td>\n",
       "      <td>0.436783</td>\n",
       "      <td>1.000000</td>\n",
       "      <td>0.197859</td>\n",
       "      <td>0.185071</td>\n",
       "      <td>-0.042163</td>\n",
       "      <td>0.130548</td>\n",
       "    </tr>\n",
       "    <tr>\n",
       "      <th>BMI</th>\n",
       "      <td>0.017683</td>\n",
       "      <td>0.221071</td>\n",
       "      <td>0.281805</td>\n",
       "      <td>0.392573</td>\n",
       "      <td>0.197859</td>\n",
       "      <td>1.000000</td>\n",
       "      <td>0.140647</td>\n",
       "      <td>0.036242</td>\n",
       "      <td>0.292695</td>\n",
       "    </tr>\n",
       "    <tr>\n",
       "      <th>DiPedFunc</th>\n",
       "      <td>-0.033523</td>\n",
       "      <td>0.137337</td>\n",
       "      <td>0.041265</td>\n",
       "      <td>0.183928</td>\n",
       "      <td>0.185071</td>\n",
       "      <td>0.140647</td>\n",
       "      <td>1.000000</td>\n",
       "      <td>0.033561</td>\n",
       "      <td>0.173844</td>\n",
       "    </tr>\n",
       "    <tr>\n",
       "      <th>Age</th>\n",
       "      <td>0.544341</td>\n",
       "      <td>0.263514</td>\n",
       "      <td>0.239528</td>\n",
       "      <td>-0.113970</td>\n",
       "      <td>-0.042163</td>\n",
       "      <td>0.036242</td>\n",
       "      <td>0.033561</td>\n",
       "      <td>1.000000</td>\n",
       "      <td>0.238356</td>\n",
       "    </tr>\n",
       "    <tr>\n",
       "      <th>HasDiabetes</th>\n",
       "      <td>0.221898</td>\n",
       "      <td>0.466581</td>\n",
       "      <td>0.065068</td>\n",
       "      <td>0.074752</td>\n",
       "      <td>0.130548</td>\n",
       "      <td>0.292695</td>\n",
       "      <td>0.173844</td>\n",
       "      <td>0.238356</td>\n",
       "      <td>1.000000</td>\n",
       "    </tr>\n",
       "  </tbody>\n",
       "</table>\n",
       "</div>"
      ],
      "text/plain": [
       "               NumTimesPrg  PlGlcConc    BloodP  SkinThick  TwoHourSerIns  \\\n",
       "NumTimesPrg       1.000000   0.129459  0.141282  -0.081672      -0.073535   \n",
       "PlGlcConc         0.129459   1.000000  0.152590   0.057328       0.331357   \n",
       "BloodP            0.141282   0.152590  1.000000   0.207371       0.088933   \n",
       "SkinThick        -0.081672   0.057328  0.207371   1.000000       0.436783   \n",
       "TwoHourSerIns    -0.073535   0.331357  0.088933   0.436783       1.000000   \n",
       "BMI               0.017683   0.221071  0.281805   0.392573       0.197859   \n",
       "DiPedFunc        -0.033523   0.137337  0.041265   0.183928       0.185071   \n",
       "Age               0.544341   0.263514  0.239528  -0.113970      -0.042163   \n",
       "HasDiabetes       0.221898   0.466581  0.065068   0.074752       0.130548   \n",
       "\n",
       "                    BMI  DiPedFunc       Age  HasDiabetes  \n",
       "NumTimesPrg    0.017683  -0.033523  0.544341     0.221898  \n",
       "PlGlcConc      0.221071   0.137337  0.263514     0.466581  \n",
       "BloodP         0.281805   0.041265  0.239528     0.065068  \n",
       "SkinThick      0.392573   0.183928 -0.113970     0.074752  \n",
       "TwoHourSerIns  0.197859   0.185071 -0.042163     0.130548  \n",
       "BMI            1.000000   0.140647  0.036242     0.292695  \n",
       "DiPedFunc      0.140647   1.000000  0.033561     0.173844  \n",
       "Age            0.036242   0.033561  1.000000     0.238356  \n",
       "HasDiabetes    0.292695   0.173844  0.238356     1.000000  "
      ]
     },
     "execution_count": 6,
     "metadata": {},
     "output_type": "execute_result"
    }
   ],
   "source": [
    "#TO DO:\n",
    "df.corr()"
   ]
  },
  {
   "cell_type": "markdown",
   "metadata": {
    "id": "Q0YpKuUBM1kb"
   },
   "source": [
    "### 4. Render the corr matrix using the heatmap in seaborn."
   ]
  },
  {
   "cell_type": "code",
   "execution_count": 7,
   "metadata": {
    "colab": {
     "base_uri": "https://localhost:8080/"
    },
    "id": "-a8O4G-jvHZu",
    "outputId": "04db924b-a2d8-4810-85b7-1fa624935f90"
   },
   "outputs": [
    {
     "name": "stdout",
     "output_type": "stream",
     "text": [
      "Requirement already satisfied: seaborn in d:\\anaconda\\lib\\site-packages (0.11.2)\n",
      "Requirement already satisfied: matplotlib>=2.2 in d:\\anaconda\\lib\\site-packages (from seaborn) (3.4.3)\n",
      "Requirement already satisfied: numpy>=1.15 in d:\\anaconda\\lib\\site-packages (from seaborn) (1.20.3)\n",
      "Requirement already satisfied: pandas>=0.23 in d:\\anaconda\\lib\\site-packages (from seaborn) (1.3.4)\n",
      "Requirement already satisfied: scipy>=1.0 in d:\\anaconda\\lib\\site-packages (from seaborn) (1.7.1)\n",
      "Requirement already satisfied: pyparsing>=2.2.1 in d:\\anaconda\\lib\\site-packages (from matplotlib>=2.2->seaborn) (3.0.4)\n",
      "Requirement already satisfied: pillow>=6.2.0 in d:\\anaconda\\lib\\site-packages (from matplotlib>=2.2->seaborn) (8.4.0)\n",
      "Requirement already satisfied: kiwisolver>=1.0.1 in d:\\anaconda\\lib\\site-packages (from matplotlib>=2.2->seaborn) (1.3.1)\n",
      "Requirement already satisfied: cycler>=0.10 in d:\\anaconda\\lib\\site-packages (from matplotlib>=2.2->seaborn) (0.10.0)\n",
      "Requirement already satisfied: python-dateutil>=2.7 in d:\\anaconda\\lib\\site-packages (from matplotlib>=2.2->seaborn) (2.8.2)\n",
      "Requirement already satisfied: six in d:\\anaconda\\lib\\site-packages (from cycler>=0.10->matplotlib>=2.2->seaborn) (1.16.0)\n",
      "Requirement already satisfied: pytz>=2017.3 in d:\\anaconda\\lib\\site-packages (from pandas>=0.23->seaborn) (2021.3)\n"
     ]
    }
   ],
   "source": [
    "!pip install seaborn"
   ]
  },
  {
   "cell_type": "code",
   "execution_count": 8,
   "metadata": {
    "colab": {
     "base_uri": "https://localhost:8080/",
     "height": 333
    },
    "id": "ll0POqtIM1kc",
    "outputId": "e3bb9f6b-3f0d-4944-b3a8-b2d8949554b0"
   },
   "outputs": [
    {
     "data": {
      "image/png": "[encoded data removed]",
      "text/plain": [
       "<Figure size 432x288 with 2 Axes>"
      ]
     },
     "metadata": {
      "needs_background": "light"
     },
     "output_type": "display_data"
    }
   ],
   "source": [
    "#TO DO:\n",
    "%matplotlib inline\n",
    "import matplotlib.pyplot as mp\n",
    "import seaborn as sb\n",
    "dataplot = sb.heatmap(df.corr(), cmap=\"YlGnBu\", annot=True)\n",
    "  \n",
    "# displaying heatmap\n",
    "mp.show()"
   ]
  },
  {
   "cell_type": "markdown",
   "metadata": {
    "id": "r7DgicVOM1ke"
   },
   "source": [
    "### 5. Print out the column which has the biggest corr number with 'HasDiabetes'."
   ]
  },
  {
   "cell_type": "code",
   "execution_count": 9,
   "metadata": {
    "colab": {
     "base_uri": "https://localhost:8080/"
    },
    "id": "DoZkwj3oM1ke",
    "outputId": "bdce4a67-f3d7-44f6-d212-3563830ed6c8"
   },
   "outputs": [
    {
     "name": "stdout",
     "output_type": "stream",
     "text": [
      "0.4665813983068733\n"
     ]
    }
   ],
   "source": [
    "print(df['HasDiabetes'].corr(df['PlGlcConc']))"
   ]
  },
  {
   "cell_type": "markdown",
   "metadata": {
    "id": "gZ5Msu8UM1kg"
   },
   "source": [
    "## Visualize the Dataset\n",
    "Visualizing the data is an important step of the data analysis. With a graphical visualization of the data, we have a better understanding of the various features values distribution: for example, we can understand the average age of the people or the average BMI, etc...\n",
    "\n",
    "We could, of course, limit our inspection to the table visualization, but we could miss important things that may affect our model precision.\n",
    "### 6. Manipulate histogram to represent all data columns in the dataset."
   ]
  },
  {
   "cell_type": "code",
   "execution_count": 10,
   "metadata": {
    "colab": {
     "base_uri": "https://localhost:8080/",
     "height": 1000
    },
    "id": "JC3CILgxM1kh",
    "outputId": "5adb195c-64d9-429f-878d-df3522a1a746"
   },
   "outputs": [
    {
     "data": {
      "image/png": "[encoded data removed]",
      "text/plain": [
       "<Figure size 432x288 with 1 Axes>"
      ]
     },
     "metadata": {
      "needs_background": "light"
     },
     "output_type": "display_data"
    },
    {
     "data": {
      "image/png": "[encoded data removed]",
      "text/plain": [
       "<Figure size 432x288 with 1 Axes>"
      ]
     },
     "metadata": {
      "needs_background": "light"
     },
     "output_type": "display_data"
    },
    {
     "data": {
      "image/png": "[encoded data removed]",
      "text/plain": [
       "<Figure size 432x288 with 1 Axes>"
      ]
     },
     "metadata": {
      "needs_background": "light"
     },
     "output_type": "display_data"
    },
    {
     "data": {
      "image/png": "[encoded data removed]",
      "text/plain": [
       "<Figure size 432x288 with 1 Axes>"
      ]
     },
     "metadata": {
      "needs_background": "light"
     },
     "output_type": "display_data"
    },
    {
     "data": {
      "image/png": "[encoded data removed]",
      "text/plain": [
       "<Figure size 432x288 with 1 Axes>"
      ]
     },
     "metadata": {
      "needs_background": "light"
     },
     "output_type": "display_data"
    },
    {
     "data": {
      "image/png": "[encoded data removed]",
      "text/plain": [
       "<Figure size 432x288 with 1 Axes>"
      ]
     },
     "metadata": {
      "needs_background": "light"
     },
     "output_type": "display_data"
    },
    {
     "data": {
      "image/png": "[encoded data removed]",
      "text/plain": [
       "<Figure size 432x288 with 1 Axes>"
      ]
     },
     "metadata": {
      "needs_background": "light"
     },
     "output_type": "display_data"
    },
    {
     "data": {
      "image/png": "[encoded data removed]",
      "text/plain": [
       "<Figure size 432x288 with 1 Axes>"
      ]
     },
     "metadata": {
      "needs_background": "light"
     },
     "output_type": "display_data"
    },
    {
     "data": {
      "image/png": "[encoded data removed]",
      "text/plain": [
       "<Figure size 432x288 with 1 Axes>"
      ]
     },
     "metadata": {
      "needs_background": "light"
     },
     "output_type": "display_data"
    }
   ],
   "source": [
    "#TO DO:\n",
    "for col in df.columns:\n",
    "    plt.hist(df[col])\n",
    "    plt.xlabel(col)\n",
    "    plt.show()"
   ]
  },
  {
   "cell_type": "markdown",
   "metadata": {
    "button": false,
    "id": "VYSkabikM1kj",
    "new_sheet": false,
    "run_control": {
     "read_only": false
    }
   },
   "source": [
    "An important thing I notice in the dataset (and that wasn't obvious at the beginning) is the fact that some people have null (zero) values for some of the features: it's not quite possible to have 0 for BMI or the blood pressure.\n",
    "\n",
    "How can we deal with similar values? We will see it later during the data transformation phase."
   ]
  },
  {
   "cell_type": "markdown",
   "metadata": {
    "button": false,
    "id": "si5Fgks4M1kj",
    "new_sheet": false,
    "run_control": {
     "read_only": false
    }
   },
   "source": [
    "## Data cleaning and transformation"
   ]
  },
  {
   "cell_type": "markdown",
   "metadata": {
    "button": false,
    "id": "ZDAqJwOaM1kk",
    "new_sheet": false,
    "run_control": {
     "read_only": false
    }
   },
   "source": [
    "We have noticed from the previous analysis that some patients have missing data for some of the features. Machine learning algorithms don't work very well when the data are missing so we have to find a solution to \"clean\" the data we have.\n",
    "\n",
    "The easiest option could be to eliminate all those patients with null/zero values, but in this way, we would eliminate a lot of important data.\n",
    "\n",
    "Another option is to calculate the median value for a specific column and substitute that value everywhere (in the same column) we have zero or null. Let's see how to apply this second method.\n",
    "\n",
    "### 7. Interpolate missing values on ['BMI', 'BloodP', 'PlGlcConc', 'SkinThick',  'TwoHourSerIns'] using median values or any other way which is effective.\n",
    "\n",
    "We haven't transformed all the columns, because of some values which can make sense to be zero (like \"Number of times pregnant\")."
   ]
  },
  {
   "cell_type": "code",
   "execution_count": 11,
   "metadata": {
    "button": false,
    "id": "ccZyY2RbM1kk",
    "new_sheet": false,
    "run_control": {
     "read_only": false
    }
   },
   "outputs": [],
   "source": [
    "#TO DO:\n",
    "df['BMI'] = df['BMI'].fillna(df['BMI'].mean())\n",
    "df['BloodP'] = df['BloodP'].fillna(df['BloodP'].mean())\n",
    "df['PlGlcConc'] = df['PlGlcConc'].fillna(df['PlGlcConc'].mean())\n",
    "df['SkinThick'] = df['SkinThick'].fillna(df['SkinThick'].mean())\n",
    "df['TwoHourSerIns'] = df['TwoHourSerIns'].fillna(df['TwoHourSerIns'].mean())"
   ]
  },
  {
   "cell_type": "markdown",
   "metadata": {
    "id": "-8h0P-vLM1kl"
   },
   "source": [
    "## Normalize Data "
   ]
  },
  {
   "cell_type": "markdown",
   "metadata": {
    "id": "GNxKYsijM1km"
   },
   "source": [
    "One of the most important data transformations we need to apply is the features scaling. Basically, most of the machine learning algorithms don't work very well if the features have a different set of values. In our case, for example, the Age ranges from 20 to 80 years old, while the number of times a patient has been pregnant ranges from 0 to 17. For this reason, we need to apply a proper transformation.\n",
    "\n",
    "### 8. Execute Data Standardization using data zero mean and unit variance (don't forget to remove ground truth column before scaling)."
   ]
  },
  {
   "cell_type": "code",
   "execution_count": 12,
   "metadata": {
    "id": "m9yeSnPxZVjO"
   },
   "outputs": [],
   "source": [
    "X = df[[\"NumTimesPrg\", \"PlGlcConc\", \"BloodP\", \"SkinThick\", \"TwoHourSerIns\", \"BMI\", \"DiPedFunc\", \"Age\"]]"
   ]
  },
  {
   "cell_type": "code",
   "execution_count": 13,
   "metadata": {
    "id": "S22D1f6QM1km"
   },
   "outputs": [],
   "source": [
    "#TO DO:\n",
    "from sklearn import preprocessing\n",
    "X = preprocessing.StandardScaler().fit(X).transform(X)"
   ]
  },
  {
   "cell_type": "code",
   "execution_count": 14,
   "metadata": {
    "colab": {
     "base_uri": "https://localhost:8080/"
    },
    "id": "PCrzljcTXkDj",
    "outputId": "689733c5-e49f-49b4-d23c-b8243044d7d1"
   },
   "outputs": [
    {
     "data": {
      "text/plain": [
       "array([[ 0.63994726,  0.84832379,  0.14964075, ...,  0.20401277,\n",
       "         0.46849198,  1.4259954 ],\n",
       "       [-0.84488505, -1.12339636, -0.16054575, ..., -0.68442195,\n",
       "        -0.36506078, -0.19067191],\n",
       "       [ 1.23388019,  1.94372388, -0.26394125, ..., -1.10325546,\n",
       "         0.60439732, -0.10558415],\n",
       "       ...,\n",
       "       [ 0.3429808 ,  0.00330087,  0.14964075, ..., -0.73518964,\n",
       "        -0.68519336, -0.27575966],\n",
       "       [-0.84488505,  0.1597866 , -0.47073225, ..., -0.24020459,\n",
       "        -0.37110101,  1.17073215],\n",
       "       [-0.84488505, -0.8730192 ,  0.04624525, ..., -0.20212881,\n",
       "        -0.47378505, -0.87137393]])"
      ]
     },
     "execution_count": 14,
     "metadata": {},
     "output_type": "execute_result"
    }
   ],
   "source": [
    "X"
   ]
  },
  {
   "cell_type": "markdown",
   "metadata": {
    "button": false,
    "id": "oOHQu_2rM1ko",
    "new_sheet": false,
    "run_control": {
     "read_only": false
    }
   },
   "source": [
    "# Splitting the Dataset"
   ]
  },
  {
   "cell_type": "markdown",
   "metadata": {
    "id": "luDui2xtM1ko"
   },
   "source": [
    "Now that we have transformed the data, we need to split the dataset into two parts: a training dataset and a test dataset. Splitting the dataset is a very important step for supervised machine learning models. Basically, we are going to use the first part to train the model (ignoring the column with the pre-assigned label), then we use the trained model to make predictions on new data (which is the test dataset, not part of the training set) and compare the predicted value with the pre-assigned label.\n",
    "\n",
    "### 9. Split the dataset into 80/20 using the stratified technique and random_state=7."
   ]
  },
  {
   "cell_type": "code",
   "execution_count": 15,
   "metadata": {
    "id": "GDGfv0W7YomS"
   },
   "outputs": [],
   "source": [
    "y = df['HasDiabetes']"
   ]
  },
  {
   "cell_type": "code",
   "execution_count": 16,
   "metadata": {
    "colab": {
     "base_uri": "https://localhost:8080/"
    },
    "id": "Xfh4QK1oM1kp",
    "outputId": "c49e2a9a-4053-43d2-e331-fd50390b9468"
   },
   "outputs": [
    {
     "name": "stdout",
     "output_type": "stream",
     "text": [
      "Train set: (614, 8) (614,)\n",
      "Test set: (154, 8) (154,)\n"
     ]
    }
   ],
   "source": [
    "#TO DO:\n",
    "from sklearn.model_selection import train_test_split\n",
    "X_train, X_test, y_train, y_test = train_test_split( X, y, test_size=0.2, random_state=7)\n",
    "print ('Train set:', X_train.shape,  y_train.shape)\n",
    "print ('Test set:', X_test.shape,  y_test.shape)"
   ]
  },
  {
   "cell_type": "markdown",
   "metadata": {
    "id": "Yk3Y6qVtM1kq"
   },
   "source": [
    "# Additional Question: \n",
    "### Why should we perform data normalization and data splitting before the training step?\n",
    "Type your answer in the cell bellow as the markdown format."
   ]
  },
  {
   "cell_type": "markdown",
   "metadata": {
    "id": "2yXSkeUjM1kr"
   },
   "source": [
    "### TO DO:\n",
    "**We need data normalization because:**\n",
    "- Almost data nomilazed working more axactly with machine learning algorithms\n",
    "- Some data are redundant need to be remove\n",
    "- Some missing value need to be filled\n",
    "\n",
    "**Besides that, the reasons for data splitting:**\n",
    "- If we train and test in the same dataset, It may be lead to low out of sample accuracy ( overfit )\n",
    "- Splitting can resolve overfit issue when training model"
   ]
  },
  {
   "cell_type": "markdown",
   "metadata": {
    "id": "6PaVBEAwM1ks"
   },
   "source": [
    "### 10. Print out the proportion of positive/total women who have diabetes on the full dataset, training dataset, and testing dataset."
   ]
  },
  {
   "cell_type": "code",
   "execution_count": 17,
   "metadata": {
    "colab": {
     "base_uri": "https://localhost:8080/"
    },
    "id": "UYq9qnKoMz9D",
    "outputId": "c13f0b06-27fb-401b-e26f-5f200a1ca6bb"
   },
   "outputs": [
    {
     "name": "stdout",
     "output_type": "stream",
     "text": [
      "0    0.651042\n",
      "1    0.348958\n",
      "Name: HasDiabetes, dtype: float64\n",
      "Percentage of full dataset positive women is: 34.9%\n"
     ]
    }
   ],
   "source": [
    "percent_full = df['HasDiabetes'].value_counts(normalize=True)\n",
    "print(percent_full)\n",
    "for i,j in zip(percent_full,percent_full.index):\n",
    "  if j == 1:\n",
    "    print('Percentage of full dataset positive women is: {}%'.format(round(i*100,2)))"
   ]
  },
  {
   "cell_type": "code",
   "execution_count": 18,
   "metadata": {
    "colab": {
     "base_uri": "https://localhost:8080/"
    },
    "id": "4C_SYiFNPxox",
    "outputId": "5068bc12-75fd-4f60-b7c5-a14adfe307d6"
   },
   "outputs": [
    {
     "name": "stdout",
     "output_type": "stream",
     "text": [
      "0    0.656352\n",
      "1    0.343648\n",
      "Name: HasDiabetes, dtype: float64\n",
      "Percentage of train_dataset positive women is: 34.36%\n"
     ]
    }
   ],
   "source": [
    "percent_train = y_train.value_counts(normalize=True)\n",
    "print(percent_train)\n",
    "for i,j in zip(percent_train,percent_train.index):\n",
    "  if j == 1:\n",
    "    print('Percentage of train_dataset positive women is: {}%'.format(round(i*100,2)))"
   ]
  },
  {
   "cell_type": "code",
   "execution_count": 19,
   "metadata": {
    "colab": {
     "base_uri": "https://localhost:8080/"
    },
    "id": "5sIVrE-XPyUm",
    "outputId": "2f29dbd8-7953-4015-da26-9ef08b8ca376"
   },
   "outputs": [
    {
     "name": "stdout",
     "output_type": "stream",
     "text": [
      "0    0.62987\n",
      "1    0.37013\n",
      "Name: HasDiabetes, dtype: float64\n",
      "Percentage of test_dataset positive women is: 37.01%\n"
     ]
    }
   ],
   "source": [
    "percent_test = y_test.value_counts(normalize=True)\n",
    "print(percent_test)\n",
    "for i,j in zip(percent_test,percent_test.index):\n",
    "  if j == 1:\n",
    "    print('Percentage of test_dataset positive women is: {}%'.format(round(i*100,2)))"
   ]
  },
  {
   "cell_type": "markdown",
   "metadata": {
    "button": false,
    "id": "KHXGaCazM1k0",
    "new_sheet": false,
    "run_control": {
     "read_only": false
    }
   },
   "source": [
    "# Classification "
   ]
  },
  {
   "cell_type": "markdown",
   "metadata": {
    "button": false,
    "id": "Q-NwUyDVM1k0",
    "new_sheet": false,
    "run_control": {
     "read_only": false
    }
   },
   "source": [
    "Now, it is your turn, use the training set to build an accurate model. Then use the test set to report the accuracy of the model.\n",
    "\n",
    "You should use the following algorithms:\n",
    "- K Nearest Neighbor(KNN)\n",
    "- Decision Tree\n",
    "- Support Vector Machine\n",
    "- Logistic Regression\n",
    "- Soft voting\n",
    "- Hard voting\n",
    "\n",
    "\n",
    "\n",
    "**__ Notes:__**\n",
    "\n",
    "- You must try to **FINE TUNE AT LEAST 3 PARAMETERS** on each algorithm, except on soft voting and hard voting.\n",
    "- You can go above and change the pre-processing, feature selection, feature extraction, and so on, to make a better model.\n",
    "- You should use either scikit-learn, Scipy or Numpy libraries for developing the classification algorithms.\n",
    "- You should include the code of the algorithm in the following cells."
   ]
  },
  {
   "cell_type": "markdown",
   "metadata": {
    "id": "c8HKeDu9M1k1"
   },
   "source": [
    "# Import Evaluation Metrices"
   ]
  },
  {
   "cell_type": "code",
   "execution_count": 20,
   "metadata": {
    "id": "sZrg6rrsM1k1"
   },
   "outputs": [],
   "source": [
    "from sklearn.metrics import jaccard_score, f1_score, accuracy_score"
   ]
  },
  {
   "cell_type": "code",
   "execution_count": 21,
   "metadata": {
    "id": "TBXdCSP-M1k3"
   },
   "outputs": [],
   "source": [
    "# a dictionary for keeping all scores of the classifiers\n",
    "f1_scores = {'train':{'KNN': 0, 'DT': 0, 'SVM': 0, 'LR': 0, 'EN_HARD': 0, 'EN_SOFT': 0},\n",
    "             'test':{'KNN': 0, 'DT': 0, 'SVM': 0, 'LR': 0, 'EN_HARD': 0, 'EN_SOFT': 0}}\n",
    "jaccard_scores = {'train':{'KNN': 0, 'DT': 0, 'SVM': 0, 'LR': 0, 'EN_HARD': 0, 'EN_SOFT': 0}, \n",
    "                  'test':{'KNN': 0, 'DT': 0, 'SVM': 0, 'LR': 0, 'EN_HARD': 0, 'EN_SOFT': 0}}\n"
   ]
  },
  {
   "cell_type": "markdown",
   "metadata": {
    "id": "ntwqYDm7M1k6"
   },
   "source": [
    "# K Nearest Neighbor(KNN)\n",
    "### 11. Finetune at least 3 parameters to get the KNN model with best accuracy. Then, print out the KNN model's parameters with the best accuracy(best estimator).\n",
    "Hint: Using GridSearchCV in sklearn.model_selection.\n",
    "\n",
    "**Warning:** You should not use the test data for finding the best parameters."
   ]
  },
  {
   "cell_type": "code",
   "execution_count": 22,
   "metadata": {
    "id": "WpD6yCUlM1k7"
   },
   "outputs": [],
   "source": [
    "from sklearn.neighbors import KNeighborsClassifier\n",
    "from sklearn.model_selection import GridSearchCV"
   ]
  },
  {
   "cell_type": "code",
   "execution_count": 23,
   "metadata": {
    "colab": {
     "base_uri": "https://localhost:8080/"
    },
    "id": "Xw2vbHFKM1k9",
    "outputId": "e65f5103-2ad7-42c9-f9a7-f77397cd4b09"
   },
   "outputs": [
    {
     "data": {
      "text/plain": [
       "{'leaf_size': 2, 'n_neighbors': 20, 'weights': 'distance'}"
      ]
     },
     "execution_count": 23,
     "metadata": {},
     "output_type": "execute_result"
    }
   ],
   "source": [
    "#TO DO:\n",
    "#Train Model and Predict\n",
    "\n",
    "#Define model\n",
    "knn = KNeighborsClassifier()\n",
    "\n",
    "#Parameter setting for GridSearchCV\n",
    "params = [{'n_neighbors': [9, 10, 15, 20, 25, 30],\n",
    "           'leaf_size' : [2, 4, 6],\n",
    "         'weights': ['uniform', 'distance']}]\n",
    "gs_knn = GridSearchCV (knn, param_grid = params, cv=3)\n",
    "gs_knn.fit(X_train, y_train)\n",
    "gs_knn.best_params_"
   ]
  },
  {
   "cell_type": "code",
   "execution_count": 24,
   "metadata": {
    "colab": {
     "base_uri": "https://localhost:8080/"
    },
    "id": "3Dxu2_beCdXS",
    "outputId": "fec73a02-7091-44aa-e52e-96c0fb213fbb"
   },
   "outputs": [],
   "source": [
    "#Get best para for voting\n",
    "best_knn = KNeighborsClassifier( leaf_size = 2, n_neighbors = 20, weights = 'distance')"
   ]
  },
  {
   "cell_type": "code",
   "execution_count": 25,
   "metadata": {
    "colab": {
     "base_uri": "https://localhost:8080/",
     "height": 55
    },
    "id": "ab6vfu0BuAVS",
    "outputId": "99eb37c4-94ae-4ec1-9398-9e06f91ab256"
   },
   "outputs": [
    {
     "data": {
      "text/plain": [
       "'\\nfor i in range(2, 40):\\n  gs_knn = GridSearchCV (knn, param_grid = param_lr, cv = i)\\n  gs_knn.fit(X_train, y_train)\\n  yhat = gs_knn.predict(X_test)\\n  print(\"Train / Test set Accuracy: \",metrics.accuracy_score(y_train, gs_knn.predict(X_train)), \\'cv = \\',i ,\\'|\\',metrics.accuracy_score(y_test, yhat),gs_knn.best_params_)\\n'"
      ]
     },
     "execution_count": 25,
     "metadata": {},
     "output_type": "execute_result"
    }
   ],
   "source": [
    "#Loop for select best cv parameter for GridSearchCV. After run, I choose cv = 3\n",
    "\"\"\"\n",
    "for i in range(2, 40):\n",
    "  gs_knn = GridSearchCV (knn, param_grid = param_lr, cv = i)\n",
    "  gs_knn.fit(X_train, y_train)\n",
    "  yhat = gs_knn.predict(X_test)\n",
    "  print(\"Train / Test set Accuracy: \",metrics.accuracy_score(y_train, gs_knn.predict(X_train)), 'cv = ',i ,'|',metrics.accuracy_score(y_test, yhat),gs_knn.best_params_)\n",
    "\"\"\""
   ]
  },
  {
   "cell_type": "markdown",
   "metadata": {
    "id": "QLvhv6JrM1lA"
   },
   "source": [
    "# Additional Question: \n",
    "### Interpret and explain the parameters you have chosen to fine tune in KNN algorithm.\n",
    "Type your answer in the cell bellow as markdown format."
   ]
  },
  {
   "cell_type": "markdown",
   "metadata": {
    "id": "qaJt1GeEM1lA"
   },
   "source": [
    "### TO DO:\n",
    "**The parameters have been chosen to fine tune in KNN algorithm:**\n",
    "- 'n_neighbors', this parameter means the number of neighbors has the distance nearest to the point under considering\n",
    "- 'leaf_size', this parameter means the size of the leaf of the algorithms. This can affect the speed of the construction and query\n",
    "- 'weights', this parameter means choosing a function to consider the weighted of nearest points. Uniform weights mean all points in each neighborhood are weighted equally. Distance weight means points by the inverse of their distance.\n",
    "\n",
    "**Beside that, in 'GridSearchCV', the cv paramater mean 'k-fold cross validation':**\n",
    "- The algorithm divide dataset k part then execute train for each part\n",
    "- The final result is the average of all parts result"
   ]
  },
  {
   "cell_type": "markdown",
   "metadata": {
    "id": "GsPgXPEpM1lB"
   },
   "source": [
    "### 12. Run the prediction on KNN models on training data and test data, then calculate the f1 score and Jaccard similarity score and save it to f1_scores dict and jaccard_scores dict.  \n",
    "**Requirement**: F1 score on test data must be higher than **0.6**, Jaccard similarity score must be higher than **0.75**."
   ]
  },
  {
   "cell_type": "code",
   "execution_count": 26,
   "metadata": {},
   "outputs": [
    {
     "name": "stdout",
     "output_type": "stream",
     "text": [
      "(614,) (614,)\n"
     ]
    }
   ],
   "source": [
    "y_pred = gs_knn.predict(X_train)\n",
    "print(y_train.shape, y_pred.shape)"
   ]
  },
  {
   "cell_type": "code",
   "execution_count": 52,
   "metadata": {},
   "outputs": [
    {
     "data": {
      "text/plain": [
       "dtype('int64')"
      ]
     },
     "execution_count": 52,
     "metadata": {},
     "output_type": "execute_result"
    }
   ],
   "source": [
    "y_train.dtype"
   ]
  },
  {
   "cell_type": "code",
   "execution_count": 27,
   "metadata": {
    "colab": {
     "base_uri": "https://localhost:8080/"
    },
    "id": "kFrAWG8ssfPf",
    "outputId": "21064db7-4056-4f94-a62b-0bc726591f11"
   },
   "outputs": [
    {
     "name": "stdout",
     "output_type": "stream",
     "text": [
      "Train set Accuracy:  1.0\n",
      "Test set Accuracy:  0.7987012987012987\n",
      "Train set f1_scores:  1.0\n",
      "Test set f1_scores:  0.6804123711340206\n"
     ]
    }
   ],
   "source": [
    "#Predict test dataset\n",
    "yhat = gs_knn.predict(X_test)\n",
    "\n",
    "#Use accuracy_score instead of Jaccard because of new version scikit learn\n",
    "print(\"Train set Accuracy: \", accuracy_score(y_train, gs_knn.predict(X_train)))\n",
    "print(\"Test set Accuracy: \", accuracy_score(y_test, yhat))\n",
    "\n",
    "#Calculate f1 score\n",
    "print(\"Train set f1_scores: \", f1_score(y_train, gs_knn.predict(X_train)))\n",
    "print(\"Test set f1_scores: \", f1_score(y_test, yhat))"
   ]
  },
  {
   "cell_type": "code",
   "execution_count": 28,
   "metadata": {
    "colab": {
     "base_uri": "https://localhost:8080/"
    },
    "id": "V7iABirdvrsO",
    "outputId": "27db6274-ac47-4989-edf2-2d155430cb06"
   },
   "outputs": [
    {
     "name": "stdout",
     "output_type": "stream",
     "text": [
      "{'train': {'KNN': 1.0, 'DT': 0, 'SVM': 0, 'LR': 0, 'EN_HARD': 0, 'EN_SOFT': 0}, 'test': {'KNN': 0.6804123711340206, 'DT': 0, 'SVM': 0, 'LR': 0, 'EN_HARD': 0, 'EN_SOFT': 0}}\n",
      "{'train': {'KNN': 1.0, 'DT': 0, 'SVM': 0, 'LR': 0, 'EN_HARD': 0, 'EN_SOFT': 0}, 'test': {'KNN': 0.7987012987012987, 'DT': 0, 'SVM': 0, 'LR': 0, 'EN_HARD': 0, 'EN_SOFT': 0}}\n"
     ]
    }
   ],
   "source": [
    "f1_scores['test']['KNN'] = f1_score(y_test, yhat)\n",
    "f1_scores['train']['KNN'] = f1_score(y_train, gs_knn.predict(X_train))\n",
    "jaccard_scores['test']['KNN'] = accuracy_score(y_test, yhat)\n",
    "jaccard_scores['train']['KNN'] = accuracy_score(y_train, gs_knn.predict(X_train))\n",
    "print(f1_scores)\n",
    "print(jaccard_scores)"
   ]
  },
  {
   "cell_type": "markdown",
   "metadata": {
    "id": "NXIl2GGLM1lE"
   },
   "source": [
    "# Decision Tree"
   ]
  },
  {
   "cell_type": "markdown",
   "metadata": {
    "id": "kW11u1k6M1lF"
   },
   "source": [
    "### 13, 14. Perform task 11 and 12 on the DT model.\n",
    "\n",
    "Hint: Using GridSearchCV in sklearn.model_selection.\n",
    "\n",
    "**Warning**: You should not use the test data for finding the best parameters.\n",
    "\n",
    "**Requirement**: F1 score on test data has to higher than **0.6**, the Jaccard similarity score must be higher than **0.73**."
   ]
  },
  {
   "cell_type": "code",
   "execution_count": 29,
   "metadata": {
    "id": "CnE8pvjvM1lG"
   },
   "outputs": [],
   "source": [
    "from sklearn import tree"
   ]
  },
  {
   "cell_type": "code",
   "execution_count": 30,
   "metadata": {
    "colab": {
     "base_uri": "https://localhost:8080/"
    },
    "id": "RPdHH2HiM1lI",
    "outputId": "44276157-75df-4c1d-8c5c-b00e2022c451"
   },
   "outputs": [
    {
     "data": {
      "text/plain": [
       "{'max_depth': 3, 'min_samples_leaf': 1, 'min_samples_split': 2}"
      ]
     },
     "execution_count": 30,
     "metadata": {},
     "output_type": "execute_result"
    }
   ],
   "source": [
    "#TO DO:\n",
    "\n",
    "#Define model\n",
    "dt = tree.DecisionTreeClassifier()\n",
    "\n",
    "#Parameter setting for Decision Tree\n",
    "params_dt = [{'min_samples_split':[2, 3, 4, 5], \n",
    "         'min_samples_leaf':[1, 2, 3, 4, 5],\n",
    "         'max_depth': [1, 2, 3, 4, 6, 8, 10, 12]}]\n",
    "\n",
    "gs_dt = GridSearchCV (dt, param_grid = params_dt, cv = 8) # cv was runned loop for finding the best parameter\n",
    "gs_dt.fit(X_train, y_train)\n",
    "gs_dt.best_params_"
   ]
  },
  {
   "cell_type": "code",
   "execution_count": 31,
   "metadata": {
    "colab": {
     "base_uri": "https://localhost:8080/"
    },
    "id": "xRVsPBgoC67y",
    "outputId": "1358a895-ce0a-4d39-c1cc-f676bec7864d"
   },
   "outputs": [],
   "source": [
    "#Get best para for voting\n",
    "best_dt = tree.DecisionTreeClassifier(max_depth = 3, min_samples_leaf = 1, min_samples_split = 2)"
   ]
  },
  {
   "cell_type": "code",
   "execution_count": 32,
   "metadata": {
    "colab": {
     "base_uri": "https://localhost:8080/"
    },
    "id": "blT8ekREzSHd",
    "outputId": "6de95131-fa69-4783-de4f-2f91cb391af9"
   },
   "outputs": [
    {
     "name": "stdout",
     "output_type": "stream",
     "text": [
      "Train set Accuracy:  0.7752442996742671\n",
      "Test set Accuracy:  0.7857142857142857\n",
      "Train set f1_scores:  0.6443298969072165\n",
      "Test set f1_scores:  0.679611650485437\n"
     ]
    }
   ],
   "source": [
    "#Predict test dataset\n",
    "yhat_dt = gs_dt.predict(X_test)\n",
    "\n",
    "#Use accuracy_score instead of Jaccard because of new version scikit learn\n",
    "print(\"Train set Accuracy: \", accuracy_score(y_train, gs_dt.predict(X_train)))\n",
    "print(\"Test set Accuracy: \", accuracy_score(y_test, yhat_dt))\n",
    "\n",
    "#Calculate f1 score\n",
    "print(\"Train set f1_scores: \", f1_score(y_train, gs_dt.predict(X_train)))\n",
    "print(\"Test set f1_scores: \", f1_score(y_test, yhat_dt))"
   ]
  },
  {
   "cell_type": "code",
   "execution_count": 33,
   "metadata": {
    "colab": {
     "base_uri": "https://localhost:8080/"
    },
    "id": "eSt5OUYI0OQH",
    "outputId": "5b64f249-27eb-4670-9df7-0fac625329f9"
   },
   "outputs": [
    {
     "name": "stdout",
     "output_type": "stream",
     "text": [
      "{'train': {'KNN': 1.0, 'DT': 0.6443298969072165, 'SVM': 0, 'LR': 0, 'EN_HARD': 0, 'EN_SOFT': 0}, 'test': {'KNN': 0.6804123711340206, 'DT': 0.679611650485437, 'SVM': 0, 'LR': 0, 'EN_HARD': 0, 'EN_SOFT': 0}}\n",
      "{'train': {'KNN': 1.0, 'DT': 0.7752442996742671, 'SVM': 0, 'LR': 0, 'EN_HARD': 0, 'EN_SOFT': 0}, 'test': {'KNN': 0.7987012987012987, 'DT': 0.7857142857142857, 'SVM': 0, 'LR': 0, 'EN_HARD': 0, 'EN_SOFT': 0}}\n"
     ]
    }
   ],
   "source": [
    "f1_scores['test']['DT'] = f1_score(y_test, yhat_dt)\n",
    "f1_scores['train']['DT'] = f1_score(y_train, gs_dt.predict(X_train))\n",
    "jaccard_scores['test']['DT'] = accuracy_score(y_test, yhat_dt)\n",
    "jaccard_scores['train']['DT'] = accuracy_score(y_train, gs_dt.predict(X_train))\n",
    "print(f1_scores)\n",
    "print(jaccard_scores)"
   ]
  },
  {
   "cell_type": "markdown",
   "metadata": {
    "id": "0ZjQch2RM1lL"
   },
   "source": [
    "# Additional Question: \n",
    "### Interpret and explain the parameters you have chosen to fine tune in DT algorithm.\n",
    "Type your answer in the cell bellow as the markdown format."
   ]
  },
  {
   "cell_type": "markdown",
   "metadata": {
    "id": "g4aBT64WM1lL"
   },
   "source": [
    "### TO DO:\n"
   ]
  },
  {
   "cell_type": "markdown",
   "metadata": {
    "id": "qhrVWgoXyOjg"
   },
   "source": [
    "**The parameters have been chosen to fine tune in Decision Tree algorithm:**\n",
    "- **'min_samples_split'**: The minimum number of samples required to split an internal node\n",
    "- **'min_samples_leaf'**: The minimum number of samples is required to be at a leaf node.\n",
    "- **'max_depth'**: The maximum depth of the tree. If None, then nodes are expanded until all leaves are pure."
   ]
  },
  {
   "cell_type": "markdown",
   "metadata": {
    "id": "nd4a59C6M1lQ"
   },
   "source": [
    "# Support Vector Machine"
   ]
  },
  {
   "cell_type": "markdown",
   "metadata": {
    "id": "sn_wfdWpM1lR"
   },
   "source": [
    "### 15, 16. Perform task 11 and 12 on SVM models.\n",
    "\n",
    "Hint: Using GridSearchCV in sklearn.model_selection.\n",
    "\n",
    "**Warning**: You should not use the test data for finding the best parameters.\n",
    "\n",
    "**Requirement**: F1 score on test data has to higher than **0.62**, Jaccard similarity score must be higher than **0.75**."
   ]
  },
  {
   "cell_type": "code",
   "execution_count": 34,
   "metadata": {
    "id": "WUwo79EMM1lR"
   },
   "outputs": [],
   "source": [
    "from sklearn.svm import SVC"
   ]
  },
  {
   "cell_type": "code",
   "execution_count": 35,
   "metadata": {
    "colab": {
     "base_uri": "https://localhost:8080/"
    },
    "id": "JMxZtQa8M1lT",
    "outputId": "0ea0a767-5510-4ad4-b3d2-9a0282dc348a"
   },
   "outputs": [
    {
     "data": {
      "text/plain": [
       "{'C': 10, 'gamma': 0.01, 'probability': True, 'random_state': 1}"
      ]
     },
     "execution_count": 35,
     "metadata": {},
     "output_type": "execute_result"
    }
   ],
   "source": [
    "#TO DO:\n",
    "\n",
    "#Define model\n",
    "svc = SVC()\n",
    "\n",
    "#Parameter setting for Support Vector Machine\n",
    "param_svc = {'C': [0.1, 1, 10, 100, 1000],  \n",
    "              'gamma': [100, 10, 1, 0.1, 0.01, 0.0001], \n",
    "              'random_state' : [1, 5],\n",
    "             'probability' : [True]}\n",
    "gs_svc = GridSearchCV (svc, param_grid = param_svc, cv = 8) # cv was runned loop for finding the best parameter\n",
    "gs_svc.fit(X_train, y_train)\n",
    "gs_svc.best_params_"
   ]
  },
  {
   "cell_type": "code",
   "execution_count": 36,
   "metadata": {
    "colab": {
     "base_uri": "https://localhost:8080/"
    },
    "id": "fRfZOypWAT3q",
    "outputId": "3de7d109-8435-4eeb-90d6-62f6f05f47a4"
   },
   "outputs": [],
   "source": [
    "#Get best para for voting\n",
    "best_SVC = SVC(C= 10, gamma= 0.01, probability= True, random_state= 1)"
   ]
  },
  {
   "cell_type": "code",
   "execution_count": 37,
   "metadata": {
    "colab": {
     "base_uri": "https://localhost:8080/"
    },
    "id": "5Liays1nuv6j",
    "outputId": "4da7ed02-143a-4b41-a040-879a084f9239"
   },
   "outputs": [
    {
     "name": "stdout",
     "output_type": "stream",
     "text": [
      "Train set Accuracy:  0.7882736156351792\n",
      "Test set Accuracy:  0.8181818181818182\n",
      "Train set f1_scores:  0.6467391304347827\n",
      "Test set f1_scores:  0.7142857142857142\n"
     ]
    }
   ],
   "source": [
    "#Predict test dataset\n",
    "yhat_svc = gs_svc.predict(X_test)\n",
    "\n",
    "#Use accuracy_score instead of Jaccard because of new version scikit learn\n",
    "print(\"Train set Accuracy: \", accuracy_score(y_train, gs_svc.predict(X_train)))\n",
    "print(\"Test set Accuracy: \", accuracy_score(y_test, yhat_svc))\n",
    "\n",
    "#Calculate f1 score\n",
    "print(\"Train set f1_scores: \", f1_score(y_train, gs_svc.predict(X_train)))\n",
    "print(\"Test set f1_scores: \", f1_score(y_test, yhat_svc))"
   ]
  },
  {
   "cell_type": "code",
   "execution_count": 38,
   "metadata": {
    "colab": {
     "base_uri": "https://localhost:8080/"
    },
    "id": "uevT9-Z2ux84",
    "outputId": "72f6460b-22cc-43bf-f461-7e3f2f93f1fb"
   },
   "outputs": [
    {
     "name": "stdout",
     "output_type": "stream",
     "text": [
      "{'train': {'KNN': 1.0, 'DT': 0.6443298969072165, 'SVM': 0.6467391304347827, 'LR': 0, 'EN_HARD': 0, 'EN_SOFT': 0}, 'test': {'KNN': 0.6804123711340206, 'DT': 0.679611650485437, 'SVM': 0.7142857142857142, 'LR': 0, 'EN_HARD': 0, 'EN_SOFT': 0}}\n",
      "{'train': {'KNN': 1.0, 'DT': 0.7752442996742671, 'SVM': 0.7882736156351792, 'LR': 0, 'EN_HARD': 0, 'EN_SOFT': 0}, 'test': {'KNN': 0.7987012987012987, 'DT': 0.7857142857142857, 'SVM': 0.8181818181818182, 'LR': 0, 'EN_HARD': 0, 'EN_SOFT': 0}}\n"
     ]
    }
   ],
   "source": [
    "f1_scores['test']['SVM'] = f1_score(y_test, yhat_svc)\n",
    "f1_scores['train']['SVM'] = f1_score(y_train, gs_svc.predict(X_train))\n",
    "jaccard_scores['test']['SVM'] = accuracy_score(y_test, yhat_svc)\n",
    "jaccard_scores['train']['SVM'] = accuracy_score(y_train, gs_svc.predict(X_train))\n",
    "print(f1_scores)\n",
    "print(jaccard_scores)"
   ]
  },
  {
   "cell_type": "markdown",
   "metadata": {
    "id": "03XgTdoPM1lW"
   },
   "source": [
    "# Additional Question: \n",
    "### Interpret and explain the parameters you have chosen to fine tune in SVM algorithm.\n",
    "Type your answer in the cell bellow as the markdown format."
   ]
  },
  {
   "cell_type": "markdown",
   "metadata": {
    "id": "wz0N8-CIM1lW"
   },
   "source": [
    "### TO DO:\n"
   ]
  },
  {
   "cell_type": "markdown",
   "metadata": {
    "id": "bBs6blMn43ix"
   },
   "source": [
    "**The parameters have been chosen to fine tune in Support Vector Machine algorithm:**\n",
    "- **'C'** : For low C, the model has a larger-margin separating hyperplane, It misclassifies more points. For large C,  the model has a smaller-margin hyperplane, It does a better job of getting all the training points classified correctly.\n",
    "-**'gamma'**:Gamma decides how much curvature we want in a decision boundary. Gamma high means more curvature. Gamma low means less curvature.\n",
    "- **'random_state'** : get different results every time running the program\n",
    "- **'probability'**: This must be enabled prior to calling fit"
   ]
  },
  {
   "cell_type": "markdown",
   "metadata": {
    "id": "xRVAKHEkM1la"
   },
   "source": [
    "# Logistic Regression"
   ]
  },
  {
   "cell_type": "markdown",
   "metadata": {
    "id": "nTQkBQIXM1la"
   },
   "source": [
    "### 17, 18. Perform task 11 and 12 on Logistic Regression model.\n",
    "\n",
    "Hint: Using GridSearchCV in sklearn.model_selection.\n",
    "\n",
    "**Warning**: You should not use the test data for finding the best parameters.\n",
    "\n",
    "**Requirement**: F1 score on test data has to higher than **0.63**, Jaccard similarity score must be higher than **0.75**."
   ]
  },
  {
   "cell_type": "code",
   "execution_count": 39,
   "metadata": {
    "id": "cWFYayQLM1lb"
   },
   "outputs": [],
   "source": [
    "from sklearn.linear_model import LogisticRegression"
   ]
  },
  {
   "cell_type": "code",
   "execution_count": 40,
   "metadata": {
    "colab": {
     "base_uri": "https://localhost:8080/"
    },
    "id": "7szXdAHTM1lc",
    "outputId": "bc4e9233-adb2-4827-d5f4-102a9a251c63"
   },
   "outputs": [
    {
     "name": "stdout",
     "output_type": "stream",
     "text": [
      "{'C': 1, 'multi_class': 'multinomial', 'solver': 'newton-cg'}\n"
     ]
    }
   ],
   "source": [
    "#TO DO:\n",
    "\n",
    "#Define model\n",
    "LR = LogisticRegression()\n",
    "\n",
    "#Parameter setting for Logistic Regression\n",
    "param_lr = {'C': [0.1, 1, 10, 100, 1000],  \n",
    "              'solver' : ['newton-cg', 'lbfgs', 'sag', 'saga'],\n",
    "            'multi_class' : ['auto', 'ovr', 'multinomial']\n",
    "             }\n",
    "gs_lr = GridSearchCV (LR, param_grid = param_lr, cv = 7) # cv was runned loop for finding the best parameter\n",
    "gs_lr.fit(X_train, y_train)\n",
    "print(gs_lr.best_params_)"
   ]
  },
  {
   "cell_type": "code",
   "execution_count": 41,
   "metadata": {
    "colab": {
     "base_uri": "https://localhost:8080/"
    },
    "id": "Glov2hbm6uSZ",
    "outputId": "ae8d171b-b1a3-4e45-8543-ef836efe6765"
   },
   "outputs": [],
   "source": [
    "#Get best para for voting\n",
    "best_LR = LogisticRegression(C = 1, multi_class = 'multinomial', solver = 'newton-cg')"
   ]
  },
  {
   "cell_type": "code",
   "execution_count": 42,
   "metadata": {
    "colab": {
     "base_uri": "https://localhost:8080/"
    },
    "id": "_YuGe2D1xLLQ",
    "outputId": "ccc4fc82-29f6-4785-9800-48cd3ed425da"
   },
   "outputs": [
    {
     "name": "stdout",
     "output_type": "stream",
     "text": [
      "Train set Accuracy:  0.7768729641693811\n",
      "Test set Accuracy:  0.7857142857142857\n",
      "Train set f1_scores:  0.6346666666666667\n",
      "Test set f1_scores:  0.6597938144329897\n"
     ]
    }
   ],
   "source": [
    "#Predict test dataset\n",
    "yhat_lr = gs_lr.predict(X_test)\n",
    "\n",
    "#Use accuracy_score instead of Jaccard because of new version scikit learn\n",
    "print(\"Train set Accuracy: \", accuracy_score(y_train, gs_lr.predict(X_train)))\n",
    "print(\"Test set Accuracy: \", accuracy_score(y_test, yhat_lr))\n",
    "\n",
    "#Calculate f1 score\n",
    "print(\"Train set f1_scores: \", f1_score(y_train, gs_lr.predict(X_train)))\n",
    "print(\"Test set f1_scores: \", f1_score(y_test, yhat_lr))"
   ]
  },
  {
   "cell_type": "code",
   "execution_count": 43,
   "metadata": {
    "colab": {
     "base_uri": "https://localhost:8080/"
    },
    "id": "kuERgCwb5gnR",
    "outputId": "e759119f-073a-4fab-baed-ae2f2ae96d39"
   },
   "outputs": [
    {
     "name": "stdout",
     "output_type": "stream",
     "text": [
      "{'train': {'KNN': 1.0, 'DT': 0.6443298969072165, 'SVM': 0.6467391304347827, 'LR': 0.6346666666666667, 'EN_HARD': 0, 'EN_SOFT': 0}, 'test': {'KNN': 0.6804123711340206, 'DT': 0.679611650485437, 'SVM': 0.7142857142857142, 'LR': 0.6597938144329897, 'EN_HARD': 0, 'EN_SOFT': 0}}\n",
      "{'train': {'KNN': 1.0, 'DT': 0.7752442996742671, 'SVM': 0.7882736156351792, 'LR': 0.7768729641693811, 'EN_HARD': 0, 'EN_SOFT': 0}, 'test': {'KNN': 0.7987012987012987, 'DT': 0.7857142857142857, 'SVM': 0.8181818181818182, 'LR': 0.7857142857142857, 'EN_HARD': 0, 'EN_SOFT': 0}}\n"
     ]
    }
   ],
   "source": [
    "f1_scores['test']['LR'] = f1_score(y_test, yhat_lr)\n",
    "f1_scores['train']['LR'] = f1_score(y_train, gs_lr.predict(X_train))\n",
    "jaccard_scores['test']['LR'] = accuracy_score(y_test, yhat_lr)\n",
    "jaccard_scores['train']['LR'] = accuracy_score(y_train, gs_lr.predict(X_train))\n",
    "print(f1_scores)\n",
    "print(jaccard_scores)"
   ]
  },
  {
   "cell_type": "markdown",
   "metadata": {
    "id": "pfPytCDYM1le"
   },
   "source": [
    "# Additional Question: \n",
    "### Interpret and explain the parameters you have chosen to fine tune in LR algorithm.\n",
    "Type your answer in the cell bellow as the markdown format."
   ]
  },
  {
   "cell_type": "markdown",
   "metadata": {
    "id": "RmPs5O5RM1lf"
   },
   "source": [
    "### TO DO:\n"
   ]
  },
  {
   "cell_type": "markdown",
   "metadata": {
    "id": "CjBSyB3Imghc"
   },
   "source": [
    "**The parameters have been chosen to fine tune in Logistic Regression algorithm:**\n",
    "- **'C'**: A high value of C tells the model to give high weight to the training data, and a lower weight to the complexity penalty. A low value tells the model to give more weight to this complexity penalty at the expense of fitting to the training data.\n",
    "- **'solver'** : For small datasets, ‘liblinear’ is a good choice, whereas ‘sag’ and ‘saga’ are faster for large ones;\n",
    "- **'multi_class'** : If the option chosen is ‘ovr’, then a binary problem is fit for each label. For ‘multinomial’ the loss minimised is the multinomial loss fit across the entire probability distribution, even when the data is binary. "
   ]
  },
  {
   "cell_type": "markdown",
   "metadata": {
    "id": "xhThcwLYM1li"
   },
   "source": [
    "# Advanced part (15%  of the total score)"
   ]
  },
  {
   "cell_type": "markdown",
   "metadata": {
    "id": "eRc5JoN7M1lo"
   },
   "source": [
    "# Ensemble model"
   ]
  },
  {
   "cell_type": "markdown",
   "metadata": {
    "id": "8-eteyNxM1lo"
   },
   "source": [
    "### 19. Perform soft voting on the 4 above models (using the same setting for the 4 models as in previous steps.) \n",
    "**Hint**: Using VotingClassifier in sklearn.ensemble."
   ]
  },
  {
   "cell_type": "code",
   "execution_count": 44,
   "metadata": {
    "id": "G7FfposgM1lp"
   },
   "outputs": [],
   "source": [
    "from sklearn.ensemble import VotingClassifier\n",
    "from sklearn.metrics import accuracy_score"
   ]
  },
  {
   "cell_type": "code",
   "execution_count": 45,
   "metadata": {
    "colab": {
     "base_uri": "https://localhost:8080/"
    },
    "id": "J-EjCxe6M1ls",
    "outputId": "b302fbac-e901-42cf-f8e8-da4bab426011"
   },
   "outputs": [],
   "source": [
    "#TO DO:\n",
    "\n",
    "#Soft Voting: In soft voting, the output class is the prediction based on the average of probability given to that class.\n",
    "\n",
    "#Create a list to store parameters\n",
    "estimator_soft = []\n",
    "\n",
    "estimator_soft.append(('LR', best_LR))\n",
    "estimator_soft.append(('SVC', best_SVC))\n",
    "estimator_soft.append(('DTC', best_dt))\n",
    "estimator_soft.append(('KNN', best_knn))\n",
    "\n",
    "\n",
    "\n",
    "#Voting Classifier with soft voting\n",
    "eclf_soft = VotingClassifier(estimators=estimator_soft, voting='soft').fit(X_train, y_train)\n",
    "#eclf_soft"
   ]
  },
  {
   "cell_type": "markdown",
   "metadata": {
    "id": "vZu5N_i3M1lu"
   },
   "source": [
    "### 20. Run the prediction on the ensembling model using soft voting on training data and test data, then calculate the f1 score and Jaccard similarity score and save it to f1_scores dict and jaccard_scores dict.¶\n",
    "\n",
    "**Requirement**: F1 score on test data must be higher than **0.66**, Jaccard similarity score must be higher than **0.78**."
   ]
  },
  {
   "cell_type": "code",
   "execution_count": 46,
   "metadata": {
    "colab": {
     "base_uri": "https://localhost:8080/"
    },
    "id": "SeuL7a0rM1lu",
    "outputId": "ca358e46-f291-4f0c-bd14-01d63ed14ac8"
   },
   "outputs": [
    {
     "name": "stdout",
     "output_type": "stream",
     "text": [
      "Train set Accuracy:  0.9006514657980456\n",
      "Test set Accuracy:  0.7987012987012987\n",
      "Train set f1_scores:  0.8439897698209718\n",
      "Test set f1_scores:  0.6868686868686869\n"
     ]
    }
   ],
   "source": [
    "#TO DO:\n",
    "\n",
    "#Predict test dataset\n",
    "yhat_soft = eclf_soft.predict(X_test)\n",
    "\n",
    "#Use accuracy_score instead of Jaccard because of new version scikit learn\n",
    "print(\"Train set Accuracy: \", accuracy_score(y_train, eclf_soft.predict(X_train)))\n",
    "print(\"Test set Accuracy: \", accuracy_score(y_test, yhat_soft))\n",
    "\n",
    "#Calculate f1 score\n",
    "print(\"Train set f1_scores: \", f1_score(y_train, eclf_soft.predict(X_train)))\n",
    "print(\"Test set f1_scores: \", f1_score(y_test, yhat_soft))"
   ]
  },
  {
   "cell_type": "code",
   "execution_count": 47,
   "metadata": {
    "colab": {
     "base_uri": "https://localhost:8080/"
    },
    "id": "kW1J5qs4pC4R",
    "outputId": "6d55823f-f267-47b1-8db7-3fc2f88686bd"
   },
   "outputs": [
    {
     "name": "stdout",
     "output_type": "stream",
     "text": [
      "{'train': {'KNN': 1.0, 'DT': 0.6443298969072165, 'SVM': 0.6467391304347827, 'LR': 0.6346666666666667, 'EN_HARD': 0, 'EN_SOFT': 0.8439897698209718}, 'test': {'KNN': 0.6804123711340206, 'DT': 0.679611650485437, 'SVM': 0.7142857142857142, 'LR': 0.6597938144329897, 'EN_HARD': 0, 'EN_SOFT': 0.6868686868686869}}\n",
      "{'train': {'KNN': 1.0, 'DT': 0.7752442996742671, 'SVM': 0.7882736156351792, 'LR': 0.7768729641693811, 'EN_HARD': 0, 'EN_SOFT': 0.9006514657980456}, 'test': {'KNN': 0.7987012987012987, 'DT': 0.7857142857142857, 'SVM': 0.8181818181818182, 'LR': 0.7857142857142857, 'EN_HARD': 0, 'EN_SOFT': 0.7987012987012987}}\n"
     ]
    }
   ],
   "source": [
    "f1_scores['test']['EN_SOFT'] = f1_score(y_test, yhat_soft)\n",
    "f1_scores['train']['EN_SOFT'] = f1_score(y_train, eclf_soft.predict(X_train))\n",
    "jaccard_scores['test']['EN_SOFT'] = accuracy_score(y_test, yhat_soft)\n",
    "jaccard_scores['train']['EN_SOFT'] = accuracy_score(y_train, eclf_soft.predict(X_train))\n",
    "print(f1_scores)\n",
    "print(jaccard_scores)"
   ]
  },
  {
   "cell_type": "markdown",
   "metadata": {
    "id": "d9vVirtTM1lw"
   },
   "source": [
    "### 21, 22. Perform task 19 and 20 using hard voting.\n",
    "Hint: Using GridSearchCV in sklearn.model_selection.\n",
    "\n",
    "**Warning**: You should not use the test data for finding the best parameters.\n",
    "\n",
    "**Requirement**: F1 score on test data must be higher than **0.57**, Jaccard similarity score must be higher than **0.73**."
   ]
  },
  {
   "cell_type": "code",
   "execution_count": 48,
   "metadata": {
    "colab": {
     "base_uri": "https://localhost:8080/"
    },
    "id": "0n-qRxd5M1lx",
    "outputId": "6f306423-681c-40d4-dc0f-45f48d0a2a82"
   },
   "outputs": [
    {
     "data": {
      "text/plain": [
       "VotingClassifier(estimators=[('LR',\n",
       "                              LogisticRegression(C=1, multi_class='multinomial',\n",
       "                                                 solver='newton-cg')),\n",
       "                             ('DTC', DecisionTreeClassifier(max_depth=3)),\n",
       "                             ('KNN',\n",
       "                              KNeighborsClassifier(leaf_size=2, n_neighbors=20,\n",
       "                                                   weights='distance'))])"
      ]
     },
     "execution_count": 48,
     "metadata": {},
     "output_type": "execute_result"
    }
   ],
   "source": [
    "#TO DO:\n",
    "\n",
    "#Hard Voting: In hard voting, the predicted output class is a class with the highest majority of votes i.e the class which had the highest probability of being predicted by each of the classifiers.\n",
    "\n",
    "estimator_hard = []\n",
    "estimator_hard.append(('LR', best_LR))\n",
    "estimator_hard.append(('DTC', best_dt))\n",
    "estimator_hard.append(('KNN', best_knn))\n",
    "\n",
    "#Voting Classifier with hard voting\n",
    "eclf_hard = VotingClassifier(estimators=estimator_hard, voting='hard').fit(X_train, y_train)\n",
    "eclf_hard"
   ]
  },
  {
   "cell_type": "code",
   "execution_count": 49,
   "metadata": {
    "colab": {
     "base_uri": "https://localhost:8080/"
    },
    "id": "mVp1sCA-d1gL",
    "outputId": "b731381d-b501-4ca6-c5b3-86d48b69c4bb"
   },
   "outputs": [
    {
     "name": "stdout",
     "output_type": "stream",
     "text": [
      "Train set Accuracy:  0.8289902280130294\n",
      "Test set Accuracy:  0.7987012987012987\n",
      "Train set f1_scores:  0.72\n",
      "Test set f1_scores:  0.6804123711340206\n"
     ]
    }
   ],
   "source": [
    "#TO DO:\n",
    "\n",
    "#Predict test dataset\n",
    "yhat_hard = eclf_hard.predict(X_test)\n",
    "\n",
    "#Use accuracy_score instead of Jaccard because of new version scikit learn\n",
    "print(\"Train set Accuracy: \", accuracy_score(y_train, eclf_hard.predict(X_train)))\n",
    "print(\"Test set Accuracy: \", accuracy_score(y_test, yhat_hard))\n",
    "\n",
    "#Calculate f1 score\n",
    "print(\"Train set f1_scores: \", f1_score(y_train, eclf_hard.predict(X_train)))\n",
    "print(\"Test set f1_scores: \", f1_score(y_test, yhat_hard))"
   ]
  },
  {
   "cell_type": "code",
   "execution_count": 50,
   "metadata": {
    "colab": {
     "base_uri": "https://localhost:8080/"
    },
    "id": "eg8S9BjodyJu",
    "outputId": "cfbbd339-3c27-46ba-8faf-e05bc42871ac"
   },
   "outputs": [
    {
     "name": "stdout",
     "output_type": "stream",
     "text": [
      "{'train': {'KNN': 1.0, 'DT': 0.6443298969072165, 'SVM': 0.6467391304347827, 'LR': 0.6346666666666667, 'EN_HARD': 0.72, 'EN_SOFT': 0.8439897698209718}, 'test': {'KNN': 0.6804123711340206, 'DT': 0.679611650485437, 'SVM': 0.7142857142857142, 'LR': 0.6597938144329897, 'EN_HARD': 0.6804123711340206, 'EN_SOFT': 0.6868686868686869}}\n",
      "{'train': {'KNN': 1.0, 'DT': 0.7752442996742671, 'SVM': 0.7882736156351792, 'LR': 0.7768729641693811, 'EN_HARD': 0.8289902280130294, 'EN_SOFT': 0.9006514657980456}, 'test': {'KNN': 0.7987012987012987, 'DT': 0.7857142857142857, 'SVM': 0.8181818181818182, 'LR': 0.7857142857142857, 'EN_HARD': 0.7987012987012987, 'EN_SOFT': 0.7987012987012987}}\n"
     ]
    }
   ],
   "source": [
    "f1_scores['test']['EN_HARD'] = f1_score(y_test, yhat_hard)\n",
    "f1_scores['train']['EN_HARD'] = f1_score(y_train, eclf_hard.predict(X_train))\n",
    "jaccard_scores['test']['EN_HARD'] = accuracy_score(y_test, yhat_hard)\n",
    "jaccard_scores['train']['EN_HARD'] = accuracy_score(y_train, eclf_hard.predict(X_train))\n",
    "print(f1_scores)\n",
    "print(jaccard_scores)"
   ]
  },
  {
   "cell_type": "markdown",
   "metadata": {
    "id": "RmteU8YeM1l3"
   },
   "source": [
    "# Report\n",
    "You should be able to report the accuracy of the built model using different evaluation metrics:"
   ]
  },
  {
   "cell_type": "markdown",
   "metadata": {
    "id": "c3q0IThKM1l3"
   },
   "source": [
    "| Algorithm          | Jaccard-training | F1-score-training |Jaccard-testing | F1-score-testing |\n",
    "|--------------------|------------------|-------------------|----------------|------------------|\n",
    "| KNN                | ?                | ?                 |  ?             |  ?               |\n",
    "| Decision Tree      | ?                | ?                 |  ?             |  ?               |\\\n",
    "| SVM                | ?                | ?                 |  ?             |  ?               |\n",
    "| Logistic Regression| ?                | ?                 |  ?             |  ?               |\n",
    "| Hard Voting        | ?                | ?                 |  ?             |  ?               |\n",
    "| Soft Voting        | ?                | ?                 |  ?             |  ?               |\n"
   ]
  },
  {
   "cell_type": "markdown",
   "metadata": {
    "id": "PpqjW-eOM1l3"
   },
   "source": [
    "### 23. Create a data frame that describes the result as exactly as above."
   ]
  },
  {
   "cell_type": "code",
   "execution_count": 51,
   "metadata": {
    "colab": {
     "base_uri": "https://localhost:8080/",
     "height": 269
    },
    "id": "pI3_EsgtM1l4",
    "outputId": "354fa05e-321a-402e-dee7-3731b60b1e28"
   },
   "outputs": [
    {
     "data": {
      "text/html": [
       "<div>\n",
       "<style scoped>\n",
       "    .dataframe tbody tr th:only-of-type {\n",
       "        vertical-align: middle;\n",
       "    }\n",
       "\n",
       "    .dataframe tbody tr th {\n",
       "        vertical-align: top;\n",
       "    }\n",
       "\n",
       "    .dataframe thead th {\n",
       "        text-align: right;\n",
       "    }\n",
       "</style>\n",
       "<table border=\"1\" class=\"dataframe\">\n",
       "  <thead>\n",
       "    <tr style=\"text-align: right;\">\n",
       "      <th></th>\n",
       "      <th>Jaccard-training</th>\n",
       "      <th>F1-score-training</th>\n",
       "      <th>Jaccard-testing</th>\n",
       "      <th>F1-score-testing</th>\n",
       "    </tr>\n",
       "    <tr>\n",
       "      <th>Algorithm</th>\n",
       "      <th></th>\n",
       "      <th></th>\n",
       "      <th></th>\n",
       "      <th></th>\n",
       "    </tr>\n",
       "  </thead>\n",
       "  <tbody>\n",
       "    <tr>\n",
       "      <th>KNN</th>\n",
       "      <td>1.000000</td>\n",
       "      <td>1.000000</td>\n",
       "      <td>0.798701</td>\n",
       "      <td>0.680412</td>\n",
       "    </tr>\n",
       "    <tr>\n",
       "      <th>Decision Tree</th>\n",
       "      <td>0.775244</td>\n",
       "      <td>0.644330</td>\n",
       "      <td>0.785714</td>\n",
       "      <td>0.679612</td>\n",
       "    </tr>\n",
       "    <tr>\n",
       "      <th>SVM</th>\n",
       "      <td>0.788274</td>\n",
       "      <td>0.646739</td>\n",
       "      <td>0.818182</td>\n",
       "      <td>0.714286</td>\n",
       "    </tr>\n",
       "    <tr>\n",
       "      <th>Logistic Regression</th>\n",
       "      <td>0.776873</td>\n",
       "      <td>0.634667</td>\n",
       "      <td>0.785714</td>\n",
       "      <td>0.659794</td>\n",
       "    </tr>\n",
       "    <tr>\n",
       "      <th>Hard Voting</th>\n",
       "      <td>0.828990</td>\n",
       "      <td>0.720000</td>\n",
       "      <td>0.798701</td>\n",
       "      <td>0.680412</td>\n",
       "    </tr>\n",
       "    <tr>\n",
       "      <th>Soft Voting</th>\n",
       "      <td>0.900651</td>\n",
       "      <td>0.843990</td>\n",
       "      <td>0.798701</td>\n",
       "      <td>0.686869</td>\n",
       "    </tr>\n",
       "  </tbody>\n",
       "</table>\n",
       "</div>"
      ],
      "text/plain": [
       "                     Jaccard-training  F1-score-training  Jaccard-testing  \\\n",
       "Algorithm                                                                   \n",
       "KNN                          1.000000           1.000000         0.798701   \n",
       "Decision Tree                0.775244           0.644330         0.785714   \n",
       "SVM                          0.788274           0.646739         0.818182   \n",
       "Logistic Regression          0.776873           0.634667         0.785714   \n",
       "Hard Voting                  0.828990           0.720000         0.798701   \n",
       "Soft Voting                  0.900651           0.843990         0.798701   \n",
       "\n",
       "                     F1-score-testing  \n",
       "Algorithm                              \n",
       "KNN                          0.680412  \n",
       "Decision Tree                0.679612  \n",
       "SVM                          0.714286  \n",
       "Logistic Regression          0.659794  \n",
       "Hard Voting                  0.680412  \n",
       "Soft Voting                  0.686869  "
      ]
     },
     "execution_count": 51,
     "metadata": {},
     "output_type": "execute_result"
    }
   ],
   "source": [
    "#TO DO:\n",
    "report1 = pd.DataFrame(f1_scores)\n",
    "report1.rename(columns={\"train\": \"F1-score-training\", \"test\": \"F1-score-testing\"}, inplace = True)\n",
    "report2 = pd.DataFrame(jaccard_scores)\n",
    "report2.rename(columns={\"train\": \"Jaccard-training\", \"test\": \"Jaccard-testing\"}, inplace = True)\n",
    "report = pd.concat([report1, report2], axis = 1)\n",
    "report = report[[\"Jaccard-training\", \"F1-score-training\", \"Jaccard-testing\", \"F1-score-testing\"]]\n",
    "report = report.reset_index()\n",
    "report = report.rename(columns={\"index\": \"Algorithm\"})\n",
    "report['Algorithm'].replace({\"DT\": \"Decision Tree\", \"LR\": \"Logistic Regression\", \"EN_HARD\": \"Hard Voting\", \"EN_SOFT\": \"Soft Voting\" }, inplace=True)\n",
    "report.set_index('Algorithm', inplace = True)\n",
    "report"
   ]
  },
  {
   "cell_type": "markdown",
   "metadata": {
    "id": "TYifTRP7M1l5"
   },
   "source": [
    "# Additional Question: \n",
    "### Are ensemble methods always better than a single model? If not, explain why?\n",
    "Type your answer in the cell bellow as the markdown format.\n",
    "\t"
   ]
  },
  {
   "cell_type": "markdown",
   "metadata": {
    "id": "450BrJ44M1l6"
   },
   "source": [
    "### TO DO:\n"
   ]
  },
  {
   "cell_type": "markdown",
   "metadata": {
    "id": "Xmtuq0hYB8th"
   },
   "source": [
    "**I think ensemble methods don't always better than a single model because:**\n",
    "\n",
    "- In the above result, we see the SVM method has an accuracy ratio higher than the others. The vote will pull down the accuracy ratio.\n",
    "\n",
    "- Ensemble methods are useful if the accuracy ratio between methods is similar."
   ]
  }
 ],
 "metadata": {
  "colab": {
   "collapsed_sections": [
    "2yXSkeUjM1kr",
    "qaJt1GeEM1lA"
   ],
   "name": "DSP303x_01_EN_2_Starter_Code.ipynb",
   "provenance": []
  },
  "kernelspec": {
   "display_name": "Python 3 (ipykernel)",
   "language": "python",
   "name": "python3"
  },
  "language_info": {
   "codemirror_mode": {
    "name": "ipython",
    "version": 3
   },
   "file_extension": ".py",
   "mimetype": "text/x-python",
   "name": "python",
   "nbconvert_exporter": "python",
   "pygments_lexer": "ipython3",
   "version": "3.9.7"
  }
 },
 "nbformat": 4,
 "nbformat_minor": 1
}
